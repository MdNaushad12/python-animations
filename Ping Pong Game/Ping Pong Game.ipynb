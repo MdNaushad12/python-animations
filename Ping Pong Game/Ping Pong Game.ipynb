{
 "cells": [
  {
   "cell_type": "code",
   "execution_count": null,
   "metadata": {},
   "outputs": [],
   "source": [
    "d"
   ]
  },
  {
   "cell_type": "code",
   "execution_count": null,
   "metadata": {},
   "outputs": [],
   "source": []
  },
  {
   "cell_type": "code",
   "execution_count": null,
   "metadata": {},
   "outputs": [],
   "source": [
    "ad"
   ]
  },
  {
   "cell_type": "code",
   "execution_count": null,
   "metadata": {},
   "outputs": [
    {
     "data": {
      "text/html": [
       "<div id=\"glowscript\" class=\"glowscript\"></div>"
      ],
      "text/plain": [
       "<IPython.core.display.HTML object>"
      ]
     },
     "metadata": {},
     "output_type": "display_data"
    },
    {
     "data": {
      "application/javascript": [
       "if (typeof Jupyter !== \"undefined\") { window.__context = { glowscript_container: $(\"#glowscript\").removeAttr(\"id\")};}else{ element.textContent = ' ';}"
      ],
      "text/plain": [
       "<IPython.core.display.Javascript object>"
      ]
     },
     "metadata": {},
     "output_type": "display_data"
    },
    {
     "data": {
      "application/javascript": [
       "if (typeof Jupyter !== \"undefined\") {require.undef(\"nbextensions/vpython_libraries/glow.min\");}else{element.textContent = ' ';}"
      ],
      "text/plain": [
       "<IPython.core.display.Javascript object>"
      ]
     },
     "metadata": {},
     "output_type": "display_data"
    },
    {
     "data": {
      "application/javascript": [
       "if (typeof Jupyter !== \"undefined\") {require.undef(\"nbextensions/vpython_libraries/glowcomm\");}else{element.textContent = ' ';}"
      ],
      "text/plain": [
       "<IPython.core.display.Javascript object>"
      ]
     },
     "metadata": {},
     "output_type": "display_data"
    },
    {
     "data": {
      "application/javascript": [
       "if (typeof Jupyter !== \"undefined\") {require.undef(\"nbextensions/vpython_libraries/jquery-ui.custom.min\");}else{element.textContent = ' ';}"
      ],
      "text/plain": [
       "<IPython.core.display.Javascript object>"
      ]
     },
     "metadata": {},
     "output_type": "display_data"
    },
    {
     "data": {
      "application/javascript": [
       "if (typeof Jupyter !== \"undefined\") {require([\"nbextensions/vpython_libraries/glow.min\"], function(){console.log(\"GLOW LOADED\");});}else{element.textContent = ' ';}"
      ],
      "text/plain": [
       "<IPython.core.display.Javascript object>"
      ]
     },
     "metadata": {},
     "output_type": "display_data"
    },
    {
     "data": {
      "application/javascript": [
       "if (typeof Jupyter !== \"undefined\") {require([\"nbextensions/vpython_libraries/glowcomm\"], function(){console.log(\"GLOWCOMM LOADED\");});}else{element.textContent = ' ';}"
      ],
      "text/plain": [
       "<IPython.core.display.Javascript object>"
      ]
     },
     "metadata": {},
     "output_type": "display_data"
    },
    {
     "data": {
      "application/javascript": [
       "if (typeof Jupyter !== \"undefined\") {require([\"nbextensions/vpython_libraries/jquery-ui.custom.min\"], function(){console.log(\"JQUERY LOADED\");});}else{element.textContent = ' ';}"
      ],
      "text/plain": [
       "<IPython.core.display.Javascript object>"
      ]
     },
     "metadata": {},
     "output_type": "display_data"
    }
   ],
   "source": [
    "#pingpong\n",
    "\n",
    "from vpython import *\n",
    "import math\n",
    "import random\n",
    "import string\n",
    "\n",
    "scene.width = scene.height = 800\n",
    "scene.title = \"Ping Pong\"\n",
    "scene.forward = vector(0,-0.25,-1)\n",
    "scene.background = vector(.96,.96,.96)\n",
    "center = (0,0,0)\n",
    "stopper = 1\n",
    "score = 0\n",
    "sentence = \"\"\n",
    "computer = box (pos = vector(0,0,-3), color = color.green, size = vector(1.5, 0.05, 0.30))\n",
    "player = box (pos = vector(0,0,3), color = color.blue, size = vector(1.5, 0.05, 0.30))\n",
    "ball = sphere(pos = vector(0,2,0), radius = 0.1, color = color.red)\n",
    "glass = box(pos = vector(0,1.5,0), color = color.blue, size = vector(3,3,6), opacity = 0.1)\n",
    "scoreboard = text (text = sentence, align='center', depth = -0.3, color = color.blue, height = 1,\n",
    "                   pos = vector(0,1.2,0))\n",
    "miniscoreboard = label(pos=(0,3.8,0), text =\"\", color = color.black)\n",
    "\n",
    "ball.velocity = vector (0,0,0.65)\n",
    "dt = 0\n",
    "g = -0.2\n",
    "\n",
    "right_text = text(text=\"right\", align='center', depth = -0.3, color = color.green)\n",
    "left_text = text(text=\"left\", align='center', depth = -0.1, color = color.green)\n",
    "gmover = text(text=\"GAME OVER\", align='center', depth = -0.1, color = color.red)\n",
    "\n",
    "gmover.visible = False\n",
    "right_text.visible = False\n",
    "left_text.visible = False\n",
    "scoreboard.visible = False\n",
    "\n",
    "while True:\n",
    "    print('hi')\n",
    "    dt = dt + 0.002\n",
    "    score = score + dt*500*stopper\n",
    "    miniscoreboard.text = \"SCORE: %d\" %score\n",
    "    ball.velocity.y = ball.velocity.y + g*dt\n",
    "    ball.pos.x = ball.pos.x + ball.velocity.x*dt\n",
    "    ball.pos.y = ball.pos.y + ball.velocity.y*dt\n",
    "    ball.pos.z = ball.pos.z + ball.velocity.z*dt\n",
    "\n",
    "    plminx = player.pos.x - 0.75\n",
    "    plmaxx = player.pos.x + 0.75\n",
    "\n",
    "    plminz = player.pos.z - 0.15\n",
    "\n",
    "    cpminz = computer.pos.z + 0.15\n",
    "    cpmaxz = computer.pos.z - 0.15\n",
    "\n",
    "    computer.pos.x = ball.pos.x\n",
    "\n",
    "    if scene.kb.keys:\n",
    "        key = scene.kb.getkey()\n",
    "        if key == \"q\" or key == \"Q\":\n",
    "##            right_text.visible = False\n",
    "##            left_text.vislbe = True\n",
    "            if player.pos.x > -1:\n",
    "                player.pos.x = player.pos.x - 1*stopper\n",
    "                \n",
    "        if key == \"w\" or key == \"W\":\n",
    "##            left_text.visible = False\n",
    "##            right_text.visible = True\n",
    "            if player.pos.x < 1:\n",
    "                player.pos.x = player.pos.x + 1*stopper\n",
    "\n",
    "## 0.075 comes from the radius of the ball + height of slider above ground .i.e. 0.0\n",
    "\n",
    "    if (plminz <= ball.pos.z):\n",
    "        if (plminx <= ball.pos.x):\n",
    "            if (ball.pos.x <= plmaxx):\n",
    "                if (ball.pos.y <= 0.075):\n",
    "\n",
    "                    ball.pos.z = 2.85\n",
    "                    ball.pos.y = 0.076\n",
    "                    ball.velocity.x = random.random()\n",
    "                    ball.velocity.y = ball.velocity.y*(-1)\n",
    "                    ball.velocity.z = ball.velocity.z*(-1)\n",
    "                    dt = 0.45\n",
    "                    score = score + 100\n",
    "\n",
    "    if (cpminz >= ball.pos.z):\n",
    "        if (ball.pos.y < 0.075):\n",
    "\n",
    "            ball.pos.z = -2.85\n",
    "            ball.pos.y = 0.076\n",
    "            ball.velocity.x = random.random()\n",
    "            ball.velocity.y = ball.velocity.y*(-1)\n",
    "            ball.velocity.z = ball.velocity.z*(-1)\n",
    "            dt = 0.45\n",
    "\n",
    "    if (ball.pos.x >= 1):\n",
    "        ball.pos.x = 1\n",
    "        ball.velocity.x = ball.velocity.x*(-1)\n",
    "\n",
    "    if (ball.pos.x <= -1):\n",
    "        ball.pos.x = -1\n",
    "        ball.velocity.x = ball.velocity.x*(-1)\n",
    "\n",
    "    if (ball.pos.y <= 0):\n",
    "        ball.pos.y = 0\n",
    "        ball.velocity.x = 0\n",
    "        ball.velocity.y = 0\n",
    "        ball.velocity.z = 0\n",
    "        stopper = 0\n",
    "        gmover.visible = True\n",
    "        scoreboard.text = \"YOUR SCORE IS %d\" %score\n",
    "        miniscoreboard.visible = False\n",
    "        scoreboard.visible = True\n",
    "        right_text.visilbe = False\n",
    "        left_text.visible = False\n",
    "        glass.visible = False\n",
    "    \n",
    "    rate(18)"
   ]
  },
  {
   "cell_type": "code",
   "execution_count": null,
   "metadata": {},
   "outputs": [],
   "source": []
  },
  {
   "cell_type": "code",
   "execution_count": null,
   "metadata": {},
   "outputs": [],
   "source": []
  },
  {
   "cell_type": "code",
   "execution_count": null,
   "metadata": {},
   "outputs": [],
   "source": []
  },
  {
   "cell_type": "code",
   "execution_count": null,
   "metadata": {},
   "outputs": [],
   "source": [
    "\n",
    "            "
   ]
  },
  {
   "cell_type": "code",
   "execution_count": null,
   "metadata": {},
   "outputs": [],
   "source": []
  },
  {
   "cell_type": "code",
   "execution_count": null,
   "metadata": {},
   "outputs": [],
   "source": []
  },
  {
   "cell_type": "code",
   "execution_count": null,
   "metadata": {},
   "outputs": [],
   "source": []
  },
  {
   "cell_type": "code",
   "execution_count": null,
   "metadata": {},
   "outputs": [],
   "source": []
  }
 ],
 "metadata": {
  "kernelspec": {
   "display_name": "Python 3",
   "language": "python",
   "name": "python3"
  }
 },
 "nbformat": 4,
 "nbformat_minor": 4
}
